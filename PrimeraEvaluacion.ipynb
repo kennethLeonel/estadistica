{
 "cells": [
  {
   "cell_type": "markdown",
   "metadata": {},
   "source": [
    "Primera evualación Estadística y exploración de datos.\n",
    "\n",
    "Nombre de los participantes: \n",
    "Juan José Naranjo Velásquez CC : 1039474689 \n",
    "Alejandro Mora Suarez CC: 1128437044 \n",
    "Kenneth David Leonel Triana CC: 1192817456\n"
   ]
  },
  {
   "cell_type": "markdown",
   "metadata": {},
   "source": [
    "De acuerdo con las especificaciones, los alambres para un sistema de cómputo tienen una resistencia entre 0.12\n",
    "y 0.14 ohms. Las mediciones de resistencias reales de los alambres que fabrica la compañía A tienen una distribución de probabilidad normal con media de 0.13 ohms y una desviación estándar de 0.01 ohms. Si se selecciona\n",
    "aleatoriamente un alambre de la producción de la empresa A, la probabilidad de que no cumpla las especificaciones es?"
   ]
  },
  {
   "cell_type": "code",
   "execution_count": 1,
   "metadata": {},
   "outputs": [
    {
     "name": "stdout",
     "output_type": "stream",
     "text": [
      "La probabilidad que no cumpla las especificaciones es lo siguiente : 0.3173105078629137\n"
     ]
    }
   ],
   "source": [
    "#De acuerdo al enunciado se tiene lo siguiente: sabiendo que es una distribución normal\n",
    "#La medidas estan en ohms\n",
    "from scipy.stats import norm\n",
    "from scipy.stats import binom\n",
    "import scipy.stats as  st\n",
    "media = 0.13\n",
    "desviacion = 0.01 \n",
    "\n",
    "# ya teniendo en cuenta vamos a sacar la probabilidad que no cumpla las especificaciones estará dada por lo siguientes probabilidades\n",
    "#P(X<0.12)+P(X>0.14)\n",
    "\n",
    "# P(x<=0.12)\n",
    "probabilidadXMenor0_12 =  norm.cdf(0.12, media, desviacion)\n",
    "# P(x<=0.14)\n",
    "probabilidadXMenor0_14 = norm.cdf(0.14,media,desviacion)\n",
    "\n",
    "#La probabilidad de que cumpla sería lo siguiente\n",
    "probabilidadFavorable = probabilidadXMenor0_14 - probabilidadXMenor0_12\n",
    "\n",
    "#La probabilidad de que no cumpla con las especificaciones sería\n",
    "\n",
    "probabilidadNoFavorable = 1 - probabilidadFavorable\n",
    "\n",
    "print (f\"La probabilidad que no cumpla las especificaciones es lo siguiente : {probabilidadNoFavorable}\")"
   ]
  },
  {
   "cell_type": "markdown",
   "metadata": {},
   "source": [
    "En cierta ciudad, los agentes de tránsito realizan comparendos a los infractores cada día. Se sabe por experiencia\n",
    "que la suma de monto total día por comparendos que realiza un agente, es una variable aleatoria normal con media 2 millones y desviación estándar 300000 pesos. Se decide que si el monto recaudado por el agente es superior a\n",
    "los 2.2 millones, este dinero se invertirá en educación, en caso contrario se quedará en la secretaría de movilidad.\n",
    "Si en un día en particular se seleccionan aleatoriamente 6 agentes de tránsito al final del día, la probabilidad de\n",
    "que por lo menos 5 de los recaudos de los agentes vayan para educación es?"
   ]
  },
  {
   "cell_type": "code",
   "execution_count": 2,
   "metadata": {},
   "outputs": [
    {
     "name": "stdout",
     "output_type": "stream",
     "text": [
      "La probabilidad que cumpla que por lo menos 5 agentes o más es lo siguiente : 0.004861780848054184\n"
     ]
    }
   ],
   "source": [
    "#De acuerdo al enunciado se tiene lo siguiente: sabiendo que es una distribución normal seguida de una distribución binomial condicional\n",
    "#La medidas estan en pesos\n",
    "from scipy.stats import binom, norm\n",
    "\n",
    "media1 = 2000000\n",
    "desviacion1 = 300000\n",
    "\n",
    "#La probabilidad de que el recaudo sea más de 2.2 millones \n",
    "\n",
    "# P (x>2200000)\n",
    "\n",
    "probabilidadXmayor2_2millones = 1 - norm.cdf(2200000, media1, desviacion1) #Esto nos indica que seria exitoso la recaudación\n",
    "\n",
    "#Usando la distribución binomial tenemos lo siguiente:\n",
    "\n",
    "#X: número de agentes que recaudan más de 2.2 millones de pesos\n",
    "\n",
    "#Nos piden buscar la probabilidad que de 6 agentes 5 por lo menos cumplan con la reacaudacion para la educación \n",
    "\n",
    "numeroAgentes = 6\n",
    "\n",
    "#P(X>=5) \n",
    "\n",
    "#P(X = 5)\n",
    "probabilidad5Agentes = binom.pmf(5,numeroAgentes,probabilidadXmayor2_2millones)\n",
    "#P(X = 6)\n",
    "probabilidad6Agentes = binom.pmf(6,numeroAgentes,probabilidadXmayor2_2millones) \n",
    "\n",
    "probabilidadDeQueSeCumpla = probabilidad5Agentes + probabilidad6Agentes\n",
    "\n",
    "\n",
    "print (f\"La probabilidad que cumpla que por lo menos 5 agentes o más es lo siguiente : {probabilidadDeQueSeCumpla}\")\n",
    "\n",
    "\n",
    "\n"
   ]
  },
  {
   "cell_type": "markdown",
   "metadata": {},
   "source": [
    "Ejercicio 3\n",
    "\n",
    "En la portería de la Universidad, se ha implementado el uso de un lector electrónico que permite el registro de\n",
    "\n",
    "ingreso de las personas a la universidad. Sin embargo, en un día cualquiera, la probabilidad de que el lector pre- sente fallas es 0.1. Suponga que el lector funciona los 365 días del año. Sea X: el número de días en el año en los\n",
    "\n",
    "cuales el lector presenta fallas. La probabilidad aproximada de que X esté entre 30 <X <50 es\n",
    "\n",
    "Variable\n",
    "\n",
    "X: El número de días en que el lectro presenta fallas al año\n",
    "\n",
    "n_dias= numero total de dias 365 p=0.1 P(30<X<50)= P(x<49)-P(X≤ 49)-P(X≤30)"
   ]
  },
  {
   "cell_type": "code",
   "execution_count": 3,
   "metadata": {},
   "outputs": [
    {
     "name": "stdout",
     "output_type": "stream",
     "text": [
      "La probabilidad de que el lector falle entre 30 y 50 días es: 0.8387\n"
     ]
    }
   ],
   "source": [
    "n_dias = 365  # número de días en el año\n",
    "p = 0.1  # probabilidad de falla en un día\n",
    "\n",
    "# Probabilidad acumulada hasta 49 (P(X <= 49))\n",
    "p_49 = st.binom.cdf(49, n_dias, p)\n",
    "\n",
    "# Probabilidad acumulada hasta 30 (P(X <= 30))\n",
    "p_30 = st.binom.cdf(30, n_dias, p)\n",
    "\n",
    "# Probabilidad de que X esté entre 30 y 50 (P(30 < X < 50))\n",
    "p_30_50 = p_49 - p_30\n",
    "print(f\"La probabilidad de que el lector falle entre 30 y 50 días es: {p_30_50:.4f}\")"
   ]
  },
  {
   "cell_type": "markdown",
   "metadata": {},
   "source": [
    "Por experiencia se sabe que el 25% de los estudiantes de un curso, el cual se califica de 0 a 5, lo reprueban. Se sabe\n",
    "que las notas obtenidas por los estudiantes en dicho curso tienen una distribución normal con una nota media\n",
    "de 3.6. Si un estudiante termina el curso, la probabilidad de que su nota sea superior a 4 es?\n",
    "\n",
    "X: nota de un estudiante al final del curso\n",
    "media =3.5\n"
   ]
  },
  {
   "cell_type": "code",
   "execution_count": 11,
   "metadata": {},
   "outputs": [
    {
     "name": "stdout",
     "output_type": "stream",
     "text": [
      "La probabilidad de que un estudiante obtenga una nota superior a 4 es: 0.326596\n"
     ]
    }
   ],
   "source": [
    "miu = 3.6  # media\n",
    "p_25 = -0.674  # valor crítico para el percentil 0.25\n",
    "nota_reprobacion = 3\n",
    "\n",
    "# Calcular la desviación estándar\n",
    "sigma = (nota_reprobacion - miu) / p_25\n",
    "\n",
    "# Probabilidad de que la nota sea mayor a 4\n",
    "p_mayor_4 = 1 - st.norm.cdf(4, miu, sigma)\n",
    "\n",
    "print(f\"La probabilidad de que un estudiante obtenga una nota superior a 4 es: {p_mayor_4:.6f}\")"
   ]
  }
 ],
 "metadata": {
  "kernelspec": {
   "display_name": "mono1",
   "language": "python",
   "name": "python3"
  },
  "language_info": {
   "codemirror_mode": {
    "name": "ipython",
    "version": 3
   },
   "file_extension": ".py",
   "mimetype": "text/x-python",
   "name": "python",
   "nbconvert_exporter": "python",
   "pygments_lexer": "ipython3",
   "version": "3.12.3"
  }
 },
 "nbformat": 4,
 "nbformat_minor": 2
}
